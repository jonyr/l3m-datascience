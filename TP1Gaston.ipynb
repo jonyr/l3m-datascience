{
 "cells": [
  {
   "cell_type": "code",
   "execution_count": null,
   "metadata": {},
   "outputs": [],
   "source": []
  },
  {
   "cell_type": "code",
   "execution_count": 1,
   "metadata": {},
   "outputs": [],
   "source": [
    "import pandas as pd\n",
    "import numpy as np\n",
    "import matplotlib.pyplot as plt\n",
    "import seaborn as sns\n",
    "%matplotlib inline"
   ]
  },
  {
   "cell_type": "markdown",
   "metadata": {},
   "source": [
    "## Parseo de columnas"
   ]
  },
  {
   "cell_type": "code",
   "execution_count": 2,
   "metadata": {},
   "outputs": [
    {
     "data": {
      "text/html": [
       "<div>\n",
       "<style scoped>\n",
       "    .dataframe tbody tr th:only-of-type {\n",
       "        vertical-align: middle;\n",
       "    }\n",
       "\n",
       "    .dataframe tbody tr th {\n",
       "        vertical-align: top;\n",
       "    }\n",
       "\n",
       "    .dataframe thead th {\n",
       "        text-align: right;\n",
       "    }\n",
       "</style>\n",
       "<table border=\"1\" class=\"dataframe\">\n",
       "  <thead>\n",
       "    <tr style=\"text-align: right;\">\n",
       "      <th></th>\n",
       "      <th>ID</th>\n",
       "      <th>Opportunity_ID</th>\n",
       "      <th>Price</th>\n",
       "      <th>ASP</th>\n",
       "      <th>ASP_(converted)</th>\n",
       "      <th>Delivery_Year</th>\n",
       "      <th>TRF</th>\n",
       "      <th>Total_Amount</th>\n",
       "      <th>Total_Taxable_Amount</th>\n",
       "    </tr>\n",
       "  </thead>\n",
       "  <tbody>\n",
       "    <tr>\n",
       "      <th>count</th>\n",
       "      <td>16947.000000</td>\n",
       "      <td>16947.000000</td>\n",
       "      <td>356.000000</td>\n",
       "      <td>13738.000000</td>\n",
       "      <td>13738.000000</td>\n",
       "      <td>16947.000000</td>\n",
       "      <td>16947.000000</td>\n",
       "      <td>1.688800e+04</td>\n",
       "      <td>1.694700e+04</td>\n",
       "    </tr>\n",
       "    <tr>\n",
       "      <th>mean</th>\n",
       "      <td>17666.650440</td>\n",
       "      <td>5335.940225</td>\n",
       "      <td>0.320323</td>\n",
       "      <td>7.012128</td>\n",
       "      <td>0.432554</td>\n",
       "      <td>2017.137428</td>\n",
       "      <td>2.338172</td>\n",
       "      <td>1.993659e+06</td>\n",
       "      <td>3.224117e+06</td>\n",
       "    </tr>\n",
       "    <tr>\n",
       "      <th>std</th>\n",
       "      <td>6940.859372</td>\n",
       "      <td>3324.723809</td>\n",
       "      <td>0.074717</td>\n",
       "      <td>18.858359</td>\n",
       "      <td>0.758659</td>\n",
       "      <td>0.829603</td>\n",
       "      <td>12.169339</td>\n",
       "      <td>1.848426e+07</td>\n",
       "      <td>2.030360e+07</td>\n",
       "    </tr>\n",
       "    <tr>\n",
       "      <th>min</th>\n",
       "      <td>4854.000000</td>\n",
       "      <td>0.000000</td>\n",
       "      <td>0.200000</td>\n",
       "      <td>0.000000</td>\n",
       "      <td>0.000000</td>\n",
       "      <td>2016.000000</td>\n",
       "      <td>0.000000</td>\n",
       "      <td>0.000000e+00</td>\n",
       "      <td>0.000000e+00</td>\n",
       "    </tr>\n",
       "    <tr>\n",
       "      <th>25%</th>\n",
       "      <td>11953.000000</td>\n",
       "      <td>2448.500000</td>\n",
       "      <td>0.260000</td>\n",
       "      <td>0.360000</td>\n",
       "      <td>0.373260</td>\n",
       "      <td>2016.000000</td>\n",
       "      <td>0.000000</td>\n",
       "      <td>2.677500e+04</td>\n",
       "      <td>8.546580e+04</td>\n",
       "    </tr>\n",
       "    <tr>\n",
       "      <th>50%</th>\n",
       "      <td>18114.000000</td>\n",
       "      <td>5306.000000</td>\n",
       "      <td>0.307500</td>\n",
       "      <td>0.400000</td>\n",
       "      <td>0.412850</td>\n",
       "      <td>2017.000000</td>\n",
       "      <td>0.000000</td>\n",
       "      <td>1.072500e+05</td>\n",
       "      <td>3.760672e+05</td>\n",
       "    </tr>\n",
       "    <tr>\n",
       "      <th>75%</th>\n",
       "      <td>23845.500000</td>\n",
       "      <td>7698.000000</td>\n",
       "      <td>0.370000</td>\n",
       "      <td>0.505000</td>\n",
       "      <td>0.476490</td>\n",
       "      <td>2018.000000</td>\n",
       "      <td>1.000000</td>\n",
       "      <td>4.603898e+05</td>\n",
       "      <td>1.037450e+06</td>\n",
       "    </tr>\n",
       "    <tr>\n",
       "      <th>max</th>\n",
       "      <td>28773.000000</td>\n",
       "      <td>12803.000000</td>\n",
       "      <td>0.560000</td>\n",
       "      <td>80.000000</td>\n",
       "      <td>67.000000</td>\n",
       "      <td>2020.000000</td>\n",
       "      <td>500.000000</td>\n",
       "      <td>1.320000e+09</td>\n",
       "      <td>1.356339e+09</td>\n",
       "    </tr>\n",
       "  </tbody>\n",
       "</table>\n",
       "</div>"
      ],
      "text/plain": [
       "                 ID  Opportunity_ID       Price           ASP  \\\n",
       "count  16947.000000    16947.000000  356.000000  13738.000000   \n",
       "mean   17666.650440     5335.940225    0.320323      7.012128   \n",
       "std     6940.859372     3324.723809    0.074717     18.858359   \n",
       "min     4854.000000        0.000000    0.200000      0.000000   \n",
       "25%    11953.000000     2448.500000    0.260000      0.360000   \n",
       "50%    18114.000000     5306.000000    0.307500      0.400000   \n",
       "75%    23845.500000     7698.000000    0.370000      0.505000   \n",
       "max    28773.000000    12803.000000    0.560000     80.000000   \n",
       "\n",
       "       ASP_(converted)  Delivery_Year           TRF  Total_Amount  \\\n",
       "count     13738.000000   16947.000000  16947.000000  1.688800e+04   \n",
       "mean          0.432554    2017.137428      2.338172  1.993659e+06   \n",
       "std           0.758659       0.829603     12.169339  1.848426e+07   \n",
       "min           0.000000    2016.000000      0.000000  0.000000e+00   \n",
       "25%           0.373260    2016.000000      0.000000  2.677500e+04   \n",
       "50%           0.412850    2017.000000      0.000000  1.072500e+05   \n",
       "75%           0.476490    2018.000000      1.000000  4.603898e+05   \n",
       "max          67.000000    2020.000000    500.000000  1.320000e+09   \n",
       "\n",
       "       Total_Taxable_Amount  \n",
       "count          1.694700e+04  \n",
       "mean           3.224117e+06  \n",
       "std            2.030360e+07  \n",
       "min            0.000000e+00  \n",
       "25%            8.546580e+04  \n",
       "50%            3.760672e+05  \n",
       "75%            1.037450e+06  \n",
       "max            1.356339e+09  "
      ]
     },
     "execution_count": 2,
     "metadata": {},
     "output_type": "execute_result"
    }
   ],
   "source": [
    "df = pd.read_csv(\"data/Entrenamieto_ECI_2020.csv\", dtype={\n",
    "                    'Region': 'category', \n",
    "                    'Territory': 'category',\n",
    "                    'Pricing, Delivery_Terms_Quote_Appr': 'bool',\n",
    "                    'Pricing, Delivery_Terms_Approved': 'bool',\n",
    "                    'Bureaucratic_Code_0_Approval': 'bool',\n",
    "                    'Bureaucratic_Code_0_Approved': 'bool',\n",
    "                    'Submitted_for_Approval': 'bool', \n",
    "                    'Bureaucratic_Code': 'category',\n",
    "                    'Source ': 'category',\n",
    "                    'Billing_Country': 'category',\n",
    "                    'Account_Name': 'category',\n",
    "                    'Opportunity_Name': 'category',\n",
    "                    'Opportunity_ID': 'int',\n",
    "                    'Sales_Contract_No': 'category',\n",
    "                    'Account_Owner': 'category',      \n",
    "                    'Opportunity_Owner': 'category', \n",
    "                    'Account_Type': 'category', \n",
    "                    'Opportunity_Type': 'category',     \n",
    "                    'Quote_Type': 'category', \n",
    "                    'Delivery_Terms': 'category',\n",
    "                    'Brand': 'category',\n",
    "                    'Product_Type': 'category',\n",
    "                    'Size': 'category',\n",
    "                    'Product_Category_B': 'category',    \n",
    "                    'Currency': 'category',\n",
    "                    'Last_Modified_By': 'category',    \n",
    "                    'Product_Family': 'category',    \n",
    "                    'Product_Name': 'category',\n",
    "                    'ASP_Currency': 'category',    \n",
    "                    'ASP_(converted)_Currency': 'category',    \n",
    "                    'Delivery_Quarter': 'category',  \n",
    "                    'Total_Amount_Currency': 'category',\n",
    "                    'Total_Taxable_Amount_Currency': 'category',\n",
    "                    'Stage': 'category',\n",
    "                    'Prod_Category_A': 'category'})\n",
    "\n",
    "df[\"Price\"] = pd.to_numeric(df['Price'], errors='coerce',)\n",
    "#No pude convertir la columna 'Sales_Contract_No' a int. Ademas es una variable categorica al igual \n",
    "#que 'Opportunity_ID'\n",
    "#pd.to_numeric(df['Sales_Contract_No'], errors='coerce',downcast='integer')\n",
    "\n",
    "df['Actual_Delivery_Date'] = pd.to_datetime(df['Actual_Delivery_Date'])\n",
    "df['Last_Activity'] = pd.to_datetime(df['Last_Activity'])\n",
    "\n",
    "df['Account_Created_Date'] = pd.to_datetime(df['Account_Created_Date']\\\n",
    "                                            .apply(lambda x: x.replace('/', '')), format='%m%d%Y')\n",
    "df['Opportunity_Created_Date'] = pd.to_datetime(df['Opportunity_Created_Date']\\\n",
    "                                            .apply(lambda x: x.replace('/', '')), format='%m%d%Y')\n",
    "df['Quote_Expiry_Date'] = pd.to_datetime(df['Quote_Expiry_Date']\\\n",
    "                                            .apply(lambda x: x.replace('/', '')), format='%m%d%Y')\n",
    "df['Last_Modified_Date'] = pd.to_datetime(df['Last_Modified_Date']\\\n",
    "                                            .apply(lambda x: x.replace('/', '')), format='%m%d%Y')\n",
    "df['Planned_Delivery_Start_Date'] = pd.to_datetime(df['Planned_Delivery_Start_Date']\\\n",
    "                                            .apply(lambda x: x.replace('/', '')), format='%m%d%Y')\n",
    "\n",
    "df['Planned_Delivery_End_Date'] = pd.to_datetime(df['Planned_Delivery_End_Date']\\\n",
    "                                            .apply(lambda x: x.replace('/', '')), format='%m%d%Y')\n",
    "df['Month'] = pd.to_datetime(df['Month']\\\n",
    "                          .apply(lambda x: x.replace(' - ', '')), format='%Y%m')\n",
    "\n",
    "\n",
    "df.describe()\n"
   ]
  },
  {
   "cell_type": "markdown",
   "metadata": {},
   "source": [
    "# Preguntas\n",
    "### ¿Cual es la distribucion de la cantidad de contratos en las regiones?\n",
    "### ¿Y dentro de cada región?\n",
    "### ¿Cual es la región con mas contratos?\n",
    "### ¿Cual es la región con la mayor tasa de contratos con el estado \"Closed Won\"?\n",
    "### ¿Cual es la distribucion de los valores de la variable Stage segun la región?\n",
    "### ¿Cual es la cantidad de contratos, y como es su distribucion con respecto a su cantidad de items?"
   ]
  },
  {
   "cell_type": "code",
   "execution_count": 3,
   "metadata": {},
   "outputs": [
    {
     "name": "stdout",
     "output_type": "stream",
     "text": [
      "<class 'pandas.core.frame.DataFrame'>\n",
      "RangeIndex: 16947 entries, 0 to 16946\n",
      "Data columns (total 52 columns):\n",
      " #   Column                              Non-Null Count  Dtype         \n",
      "---  ------                              --------------  -----         \n",
      " 0   ID                                  16947 non-null  int64         \n",
      " 1   Region                              16947 non-null  category      \n",
      " 2   Territory                           16947 non-null  category      \n",
      " 3   Pricing, Delivery_Terms_Quote_Appr  16947 non-null  bool          \n",
      " 4   Pricing, Delivery_Terms_Approved    16947 non-null  bool          \n",
      " 5   Bureaucratic_Code_0_Approval        16947 non-null  bool          \n",
      " 6   Bureaucratic_Code_0_Approved        16947 non-null  bool          \n",
      " 7   Submitted_for_Approval              16947 non-null  bool          \n",
      " 8   Bureaucratic_Code                   16947 non-null  category      \n",
      " 9   Account_Created_Date                16947 non-null  datetime64[ns]\n",
      " 10  Source                              16947 non-null  category      \n",
      " 11  Billing_Country                     16947 non-null  category      \n",
      " 12  Account_Name                        16947 non-null  category      \n",
      " 13  Opportunity_Name                    16947 non-null  category      \n",
      " 14  Opportunity_ID                      16947 non-null  int64         \n",
      " 15  Sales_Contract_No                   16947 non-null  category      \n",
      " 16  Account_Owner                       16947 non-null  category      \n",
      " 17  Opportunity_Owner                   16947 non-null  category      \n",
      " 18  Account_Type                        16947 non-null  category      \n",
      " 19  Opportunity_Type                    16947 non-null  category      \n",
      " 20  Quote_Type                          16947 non-null  category      \n",
      " 21  Delivery_Terms                      16947 non-null  category      \n",
      " 22  Opportunity_Created_Date            16947 non-null  datetime64[ns]\n",
      " 23  Brand                               16947 non-null  category      \n",
      " 24  Product_Type                        16947 non-null  category      \n",
      " 25  Size                                16947 non-null  category      \n",
      " 26  Product_Category_B                  16947 non-null  category      \n",
      " 27  Price                               356 non-null    float64       \n",
      " 28  Currency                            16947 non-null  category      \n",
      " 29  Last_Activity                       0 non-null      datetime64[ns]\n",
      " 30  Quote_Expiry_Date                   12322 non-null  datetime64[ns]\n",
      " 31  Last_Modified_Date                  16947 non-null  datetime64[ns]\n",
      " 32  Last_Modified_By                    16947 non-null  category      \n",
      " 33  Product_Family                      16947 non-null  category      \n",
      " 34  Product_Name                        16947 non-null  category      \n",
      " 35  ASP_Currency                        16947 non-null  category      \n",
      " 36  ASP                                 13738 non-null  float64       \n",
      " 37  ASP_(converted)_Currency            16947 non-null  category      \n",
      " 38  ASP_(converted)                     13738 non-null  float64       \n",
      " 39  Planned_Delivery_Start_Date         16947 non-null  datetime64[ns]\n",
      " 40  Planned_Delivery_End_Date           16872 non-null  datetime64[ns]\n",
      " 41  Month                               16947 non-null  datetime64[ns]\n",
      " 42  Delivery_Quarter                    16947 non-null  category      \n",
      " 43  Delivery_Year                       16947 non-null  int64         \n",
      " 44  Actual_Delivery_Date                0 non-null      datetime64[ns]\n",
      " 45  TRF                                 16947 non-null  int64         \n",
      " 46  Total_Amount_Currency               16947 non-null  category      \n",
      " 47  Total_Amount                        16888 non-null  float64       \n",
      " 48  Total_Taxable_Amount_Currency       16947 non-null  category      \n",
      " 49  Total_Taxable_Amount                16947 non-null  float64       \n",
      " 50  Stage                               16947 non-null  category      \n",
      " 51  Prod_Category_A                     16947 non-null  category      \n",
      "dtypes: bool(5), category(29), datetime64[ns](9), float64(5), int64(4)\n",
      "memory usage: 3.7 MB\n"
     ]
    }
   ],
   "source": [
    "df.info()"
   ]
  },
  {
   "cell_type": "code",
   "execution_count": 4,
   "metadata": {},
   "outputs": [
    {
     "data": {
      "text/html": [
       "<div>\n",
       "<style scoped>\n",
       "    .dataframe tbody tr th:only-of-type {\n",
       "        vertical-align: middle;\n",
       "    }\n",
       "\n",
       "    .dataframe tbody tr th {\n",
       "        vertical-align: top;\n",
       "    }\n",
       "\n",
       "    .dataframe thead th {\n",
       "        text-align: right;\n",
       "    }\n",
       "</style>\n",
       "<table border=\"1\" class=\"dataframe\">\n",
       "  <thead>\n",
       "    <tr style=\"text-align: right;\">\n",
       "      <th></th>\n",
       "      <th>count</th>\n",
       "      <th>Null</th>\n",
       "      <th>zeros</th>\n",
       "      <th>None</th>\n",
       "    </tr>\n",
       "  </thead>\n",
       "  <tbody>\n",
       "    <tr>\n",
       "      <th>ID</th>\n",
       "      <td>16947</td>\n",
       "      <td>0</td>\n",
       "      <td>0.0</td>\n",
       "      <td>0</td>\n",
       "    </tr>\n",
       "    <tr>\n",
       "      <th>Region</th>\n",
       "      <td>16947</td>\n",
       "      <td>0</td>\n",
       "      <td>NaN</td>\n",
       "      <td>0</td>\n",
       "    </tr>\n",
       "    <tr>\n",
       "      <th>Territory</th>\n",
       "      <td>16947</td>\n",
       "      <td>0</td>\n",
       "      <td>NaN</td>\n",
       "      <td>4999</td>\n",
       "    </tr>\n",
       "    <tr>\n",
       "      <th>Pricing, Delivery_Terms_Quote_Appr</th>\n",
       "      <td>16947</td>\n",
       "      <td>0</td>\n",
       "      <td>NaN</td>\n",
       "      <td>0</td>\n",
       "    </tr>\n",
       "    <tr>\n",
       "      <th>Pricing, Delivery_Terms_Approved</th>\n",
       "      <td>16947</td>\n",
       "      <td>0</td>\n",
       "      <td>NaN</td>\n",
       "      <td>0</td>\n",
       "    </tr>\n",
       "    <tr>\n",
       "      <th>Bureaucratic_Code_0_Approval</th>\n",
       "      <td>16947</td>\n",
       "      <td>0</td>\n",
       "      <td>NaN</td>\n",
       "      <td>0</td>\n",
       "    </tr>\n",
       "    <tr>\n",
       "      <th>Bureaucratic_Code_0_Approved</th>\n",
       "      <td>16947</td>\n",
       "      <td>0</td>\n",
       "      <td>NaN</td>\n",
       "      <td>0</td>\n",
       "    </tr>\n",
       "    <tr>\n",
       "      <th>Submitted_for_Approval</th>\n",
       "      <td>16947</td>\n",
       "      <td>0</td>\n",
       "      <td>NaN</td>\n",
       "      <td>0</td>\n",
       "    </tr>\n",
       "    <tr>\n",
       "      <th>Bureaucratic_Code</th>\n",
       "      <td>16947</td>\n",
       "      <td>0</td>\n",
       "      <td>NaN</td>\n",
       "      <td>0</td>\n",
       "    </tr>\n",
       "    <tr>\n",
       "      <th>Account_Created_Date</th>\n",
       "      <td>16947</td>\n",
       "      <td>0</td>\n",
       "      <td>NaN</td>\n",
       "      <td>0</td>\n",
       "    </tr>\n",
       "    <tr>\n",
       "      <th>Source</th>\n",
       "      <td>16947</td>\n",
       "      <td>0</td>\n",
       "      <td>NaN</td>\n",
       "      <td>9497</td>\n",
       "    </tr>\n",
       "    <tr>\n",
       "      <th>Billing_Country</th>\n",
       "      <td>16947</td>\n",
       "      <td>0</td>\n",
       "      <td>NaN</td>\n",
       "      <td>27</td>\n",
       "    </tr>\n",
       "    <tr>\n",
       "      <th>Account_Name</th>\n",
       "      <td>16947</td>\n",
       "      <td>0</td>\n",
       "      <td>NaN</td>\n",
       "      <td>0</td>\n",
       "    </tr>\n",
       "    <tr>\n",
       "      <th>Opportunity_Name</th>\n",
       "      <td>16947</td>\n",
       "      <td>0</td>\n",
       "      <td>NaN</td>\n",
       "      <td>0</td>\n",
       "    </tr>\n",
       "    <tr>\n",
       "      <th>Opportunity_ID</th>\n",
       "      <td>16947</td>\n",
       "      <td>0</td>\n",
       "      <td>1.0</td>\n",
       "      <td>0</td>\n",
       "    </tr>\n",
       "    <tr>\n",
       "      <th>Sales_Contract_No</th>\n",
       "      <td>16947</td>\n",
       "      <td>0</td>\n",
       "      <td>NaN</td>\n",
       "      <td>6973</td>\n",
       "    </tr>\n",
       "    <tr>\n",
       "      <th>Account_Owner</th>\n",
       "      <td>16947</td>\n",
       "      <td>0</td>\n",
       "      <td>NaN</td>\n",
       "      <td>0</td>\n",
       "    </tr>\n",
       "    <tr>\n",
       "      <th>Opportunity_Owner</th>\n",
       "      <td>16947</td>\n",
       "      <td>0</td>\n",
       "      <td>NaN</td>\n",
       "      <td>0</td>\n",
       "    </tr>\n",
       "    <tr>\n",
       "      <th>Account_Type</th>\n",
       "      <td>16947</td>\n",
       "      <td>0</td>\n",
       "      <td>NaN</td>\n",
       "      <td>112</td>\n",
       "    </tr>\n",
       "    <tr>\n",
       "      <th>Opportunity_Type</th>\n",
       "      <td>16947</td>\n",
       "      <td>0</td>\n",
       "      <td>NaN</td>\n",
       "      <td>0</td>\n",
       "    </tr>\n",
       "    <tr>\n",
       "      <th>Quote_Type</th>\n",
       "      <td>16947</td>\n",
       "      <td>0</td>\n",
       "      <td>NaN</td>\n",
       "      <td>0</td>\n",
       "    </tr>\n",
       "    <tr>\n",
       "      <th>Delivery_Terms</th>\n",
       "      <td>16947</td>\n",
       "      <td>0</td>\n",
       "      <td>NaN</td>\n",
       "      <td>0</td>\n",
       "    </tr>\n",
       "    <tr>\n",
       "      <th>Opportunity_Created_Date</th>\n",
       "      <td>16947</td>\n",
       "      <td>0</td>\n",
       "      <td>NaN</td>\n",
       "      <td>0</td>\n",
       "    </tr>\n",
       "    <tr>\n",
       "      <th>Brand</th>\n",
       "      <td>16947</td>\n",
       "      <td>0</td>\n",
       "      <td>NaN</td>\n",
       "      <td>15911</td>\n",
       "    </tr>\n",
       "    <tr>\n",
       "      <th>Product_Type</th>\n",
       "      <td>16947</td>\n",
       "      <td>0</td>\n",
       "      <td>NaN</td>\n",
       "      <td>15935</td>\n",
       "    </tr>\n",
       "    <tr>\n",
       "      <th>Size</th>\n",
       "      <td>16947</td>\n",
       "      <td>0</td>\n",
       "      <td>NaN</td>\n",
       "      <td>15967</td>\n",
       "    </tr>\n",
       "    <tr>\n",
       "      <th>Product_Category_B</th>\n",
       "      <td>16947</td>\n",
       "      <td>0</td>\n",
       "      <td>NaN</td>\n",
       "      <td>15928</td>\n",
       "    </tr>\n",
       "    <tr>\n",
       "      <th>Price</th>\n",
       "      <td>356</td>\n",
       "      <td>16591</td>\n",
       "      <td>0.0</td>\n",
       "      <td>0</td>\n",
       "    </tr>\n",
       "    <tr>\n",
       "      <th>Currency</th>\n",
       "      <td>16947</td>\n",
       "      <td>0</td>\n",
       "      <td>NaN</td>\n",
       "      <td>16052</td>\n",
       "    </tr>\n",
       "    <tr>\n",
       "      <th>Last_Activity</th>\n",
       "      <td>0</td>\n",
       "      <td>16947</td>\n",
       "      <td>NaN</td>\n",
       "      <td>0</td>\n",
       "    </tr>\n",
       "    <tr>\n",
       "      <th>Quote_Expiry_Date</th>\n",
       "      <td>12322</td>\n",
       "      <td>4625</td>\n",
       "      <td>NaN</td>\n",
       "      <td>0</td>\n",
       "    </tr>\n",
       "    <tr>\n",
       "      <th>Last_Modified_Date</th>\n",
       "      <td>16947</td>\n",
       "      <td>0</td>\n",
       "      <td>NaN</td>\n",
       "      <td>0</td>\n",
       "    </tr>\n",
       "    <tr>\n",
       "      <th>Last_Modified_By</th>\n",
       "      <td>16947</td>\n",
       "      <td>0</td>\n",
       "      <td>NaN</td>\n",
       "      <td>0</td>\n",
       "    </tr>\n",
       "    <tr>\n",
       "      <th>Product_Family</th>\n",
       "      <td>16947</td>\n",
       "      <td>0</td>\n",
       "      <td>NaN</td>\n",
       "      <td>0</td>\n",
       "    </tr>\n",
       "    <tr>\n",
       "      <th>Product_Name</th>\n",
       "      <td>16947</td>\n",
       "      <td>0</td>\n",
       "      <td>NaN</td>\n",
       "      <td>0</td>\n",
       "    </tr>\n",
       "    <tr>\n",
       "      <th>ASP_Currency</th>\n",
       "      <td>16947</td>\n",
       "      <td>0</td>\n",
       "      <td>NaN</td>\n",
       "      <td>0</td>\n",
       "    </tr>\n",
       "    <tr>\n",
       "      <th>ASP</th>\n",
       "      <td>13738</td>\n",
       "      <td>3209</td>\n",
       "      <td>301.0</td>\n",
       "      <td>0</td>\n",
       "    </tr>\n",
       "    <tr>\n",
       "      <th>ASP_(converted)_Currency</th>\n",
       "      <td>16947</td>\n",
       "      <td>0</td>\n",
       "      <td>NaN</td>\n",
       "      <td>0</td>\n",
       "    </tr>\n",
       "    <tr>\n",
       "      <th>ASP_(converted)</th>\n",
       "      <td>13738</td>\n",
       "      <td>3209</td>\n",
       "      <td>300.0</td>\n",
       "      <td>0</td>\n",
       "    </tr>\n",
       "    <tr>\n",
       "      <th>Planned_Delivery_Start_Date</th>\n",
       "      <td>16947</td>\n",
       "      <td>0</td>\n",
       "      <td>NaN</td>\n",
       "      <td>0</td>\n",
       "    </tr>\n",
       "    <tr>\n",
       "      <th>Planned_Delivery_End_Date</th>\n",
       "      <td>16872</td>\n",
       "      <td>75</td>\n",
       "      <td>NaN</td>\n",
       "      <td>0</td>\n",
       "    </tr>\n",
       "    <tr>\n",
       "      <th>Month</th>\n",
       "      <td>16947</td>\n",
       "      <td>0</td>\n",
       "      <td>NaN</td>\n",
       "      <td>0</td>\n",
       "    </tr>\n",
       "    <tr>\n",
       "      <th>Delivery_Quarter</th>\n",
       "      <td>16947</td>\n",
       "      <td>0</td>\n",
       "      <td>NaN</td>\n",
       "      <td>0</td>\n",
       "    </tr>\n",
       "    <tr>\n",
       "      <th>Delivery_Year</th>\n",
       "      <td>16947</td>\n",
       "      <td>0</td>\n",
       "      <td>0.0</td>\n",
       "      <td>0</td>\n",
       "    </tr>\n",
       "    <tr>\n",
       "      <th>Actual_Delivery_Date</th>\n",
       "      <td>0</td>\n",
       "      <td>16947</td>\n",
       "      <td>NaN</td>\n",
       "      <td>0</td>\n",
       "    </tr>\n",
       "    <tr>\n",
       "      <th>TRF</th>\n",
       "      <td>16947</td>\n",
       "      <td>0</td>\n",
       "      <td>11971.0</td>\n",
       "      <td>0</td>\n",
       "    </tr>\n",
       "    <tr>\n",
       "      <th>Total_Amount_Currency</th>\n",
       "      <td>16947</td>\n",
       "      <td>0</td>\n",
       "      <td>NaN</td>\n",
       "      <td>0</td>\n",
       "    </tr>\n",
       "    <tr>\n",
       "      <th>Total_Amount</th>\n",
       "      <td>16888</td>\n",
       "      <td>59</td>\n",
       "      <td>52.0</td>\n",
       "      <td>0</td>\n",
       "    </tr>\n",
       "    <tr>\n",
       "      <th>Total_Taxable_Amount_Currency</th>\n",
       "      <td>16947</td>\n",
       "      <td>0</td>\n",
       "      <td>NaN</td>\n",
       "      <td>0</td>\n",
       "    </tr>\n",
       "    <tr>\n",
       "      <th>Total_Taxable_Amount</th>\n",
       "      <td>16947</td>\n",
       "      <td>0</td>\n",
       "      <td>997.0</td>\n",
       "      <td>0</td>\n",
       "    </tr>\n",
       "    <tr>\n",
       "      <th>Stage</th>\n",
       "      <td>16947</td>\n",
       "      <td>0</td>\n",
       "      <td>NaN</td>\n",
       "      <td>0</td>\n",
       "    </tr>\n",
       "    <tr>\n",
       "      <th>Prod_Category_A</th>\n",
       "      <td>16947</td>\n",
       "      <td>0</td>\n",
       "      <td>NaN</td>\n",
       "      <td>0</td>\n",
       "    </tr>\n",
       "  </tbody>\n",
       "</table>\n",
       "</div>"
      ],
      "text/plain": [
       "                                    count   Null    zeros   None\n",
       "ID                                  16947      0      0.0      0\n",
       "Region                              16947      0      NaN      0\n",
       "Territory                           16947      0      NaN   4999\n",
       "Pricing, Delivery_Terms_Quote_Appr  16947      0      NaN      0\n",
       "Pricing, Delivery_Terms_Approved    16947      0      NaN      0\n",
       "Bureaucratic_Code_0_Approval        16947      0      NaN      0\n",
       "Bureaucratic_Code_0_Approved        16947      0      NaN      0\n",
       "Submitted_for_Approval              16947      0      NaN      0\n",
       "Bureaucratic_Code                   16947      0      NaN      0\n",
       "Account_Created_Date                16947      0      NaN      0\n",
       "Source                              16947      0      NaN   9497\n",
       "Billing_Country                     16947      0      NaN     27\n",
       "Account_Name                        16947      0      NaN      0\n",
       "Opportunity_Name                    16947      0      NaN      0\n",
       "Opportunity_ID                      16947      0      1.0      0\n",
       "Sales_Contract_No                   16947      0      NaN   6973\n",
       "Account_Owner                       16947      0      NaN      0\n",
       "Opportunity_Owner                   16947      0      NaN      0\n",
       "Account_Type                        16947      0      NaN    112\n",
       "Opportunity_Type                    16947      0      NaN      0\n",
       "Quote_Type                          16947      0      NaN      0\n",
       "Delivery_Terms                      16947      0      NaN      0\n",
       "Opportunity_Created_Date            16947      0      NaN      0\n",
       "Brand                               16947      0      NaN  15911\n",
       "Product_Type                        16947      0      NaN  15935\n",
       "Size                                16947      0      NaN  15967\n",
       "Product_Category_B                  16947      0      NaN  15928\n",
       "Price                                 356  16591      0.0      0\n",
       "Currency                            16947      0      NaN  16052\n",
       "Last_Activity                           0  16947      NaN      0\n",
       "Quote_Expiry_Date                   12322   4625      NaN      0\n",
       "Last_Modified_Date                  16947      0      NaN      0\n",
       "Last_Modified_By                    16947      0      NaN      0\n",
       "Product_Family                      16947      0      NaN      0\n",
       "Product_Name                        16947      0      NaN      0\n",
       "ASP_Currency                        16947      0      NaN      0\n",
       "ASP                                 13738   3209    301.0      0\n",
       "ASP_(converted)_Currency            16947      0      NaN      0\n",
       "ASP_(converted)                     13738   3209    300.0      0\n",
       "Planned_Delivery_Start_Date         16947      0      NaN      0\n",
       "Planned_Delivery_End_Date           16872     75      NaN      0\n",
       "Month                               16947      0      NaN      0\n",
       "Delivery_Quarter                    16947      0      NaN      0\n",
       "Delivery_Year                       16947      0      0.0      0\n",
       "Actual_Delivery_Date                    0  16947      NaN      0\n",
       "TRF                                 16947      0  11971.0      0\n",
       "Total_Amount_Currency               16947      0      NaN      0\n",
       "Total_Amount                        16888     59     52.0      0\n",
       "Total_Taxable_Amount_Currency       16947      0      NaN      0\n",
       "Total_Taxable_Amount                16947      0    997.0      0\n",
       "Stage                               16947      0      NaN      0\n",
       "Prod_Category_A                     16947      0      NaN      0"
      ]
     },
     "execution_count": 4,
     "metadata": {},
     "output_type": "execute_result"
    }
   ],
   "source": [
    "#Veamos la cantidad de datos no nulos por columna, zeros, none, y nulos\n",
    "df2 = df.count().to_frame()\n",
    "\n",
    "df2 = df2.rename(columns = {0:'count'})\n",
    "df2['Null'] = df.isna().sum()\n",
    "df2['zeros'] = 0\n",
    "df2['zeros'] += df.select_dtypes(include=['number']).eq(0).sum()\n",
    "df2['None'] = df.eq('None').sum()\n",
    "df2"
   ]
  },
  {
   "cell_type": "markdown",
   "metadata": {},
   "source": [
    "Las columnas \"Actual_Delivery_Date\", \"Last_Activity\" a primeras no aportan alguna informacion que pueda servir ya que no tienen registros."
   ]
  },
  {
   "cell_type": "markdown",
   "metadata": {},
   "source": [
    "## Cantidad de valores no nulos en variables numéricas"
   ]
  },
  {
   "cell_type": "code",
   "execution_count": 5,
   "metadata": {},
   "outputs": [
    {
     "data": {
      "text/plain": [
       "Text(0.5, 0, 'columnas numéricas')"
      ]
     },
     "execution_count": 5,
     "metadata": {},
     "output_type": "execute_result"
    },
    {
     "data": {
      "image/png": "[encoded data removed]",
      "text/plain": [
       "<Figure size 432x288 with 1 Axes>"
      ]
     },
     "metadata": {
      "needs_background": "light"
     },
     "output_type": "display_data"
    }
   ],
   "source": [
    "#Obtengo una lista de las columnas numéricas\n",
    "columns_with_numbers = df.select_dtypes(include=['number']).columns.to_list()\n",
    "df2_with_numbers = df2.loc[columns_with_numbers,'count'].to_frame()\n",
    "\n",
    "df2_with_numbers.plot(kind= 'bar',rot=80, title='Cantidad de datos no nulos por columna')\n",
    "ax= plt.gca()\n",
    "ax.set_ylabel('cantidad de datos no nulos')\n",
    "ax.set_xlabel('columnas numéricas')"
   ]
  },
  {
   "cell_type": "markdown",
   "metadata": {},
   "source": [
    "## Variable Price\n"
   ]
  },
  {
   "cell_type": "code",
   "execution_count": 6,
   "metadata": {},
   "outputs": [
    {
     "name": "stdout",
     "output_type": "stream",
     "text": [
      "356\n"
     ]
    },
    {
     "data": {
      "text/plain": [
       "<AxesSubplot:ylabel='Frequency'>"
      ]
     },
     "execution_count": 6,
     "metadata": {},
     "output_type": "execute_result"
    },
    {
     "data": {
      "image/png": "[encoded data removed]",
      "text/plain": [
       "<Figure size 432x288 with 1 Axes>"
      ]
     },
     "metadata": {
      "needs_background": "light"
     },
     "output_type": "display_data"
    }
   ],
   "source": [
    "print( len(df.Price) - df.Price.isnull().sum() )\n",
    "#Solo tiene 356 datos validos, un 2.10%\n",
    "df['Price'].plot(kind='hist', bins=70) "
   ]
  },
  {
   "cell_type": "code",
   "execution_count": 7,
   "metadata": {},
   "outputs": [
    {
     "name": "stderr",
     "output_type": "stream",
     "text": [
      "/Library/Frameworks/Python.framework/Versions/3.8/lib/python3.8/site-packages/seaborn/distributions.py:2551: FutureWarning: `distplot` is a deprecated function and will be removed in a future version. Please adapt your code to use either `displot` (a figure-level function with similar flexibility) or `kdeplot` (an axes-level function for kernel density plots).\n",
      "  warnings.warn(msg, FutureWarning)\n"
     ]
    },
    {
     "data": {
      "text/plain": [
       "Text(0, 0.5, 'Densidad')"
      ]
     },
     "execution_count": 7,
     "metadata": {},
     "output_type": "execute_result"
    },
    {
     "data": {
      "image/png": "[encoded data removed]",
      "text/plain": [
       "<Figure size 432x288 with 1 Axes>"
      ]
     },
     "metadata": {
      "needs_background": "light"
     },
     "output_type": "display_data"
    }
   ],
   "source": [
    "g = sns.distplot(df['Price'], hist=False)\n",
    "g.set_title(\"Densidad de los valores de Price\")\n",
    "g.set_xlabel(\"Prices\")\n",
    "g.set_ylabel(\"Densidad\")"
   ]
  },
  {
   "cell_type": "markdown",
   "metadata": {},
   "source": [
    "## Cantidad de valores \"None\" en variables categóricas"
   ]
  },
  {
   "cell_type": "code",
   "execution_count": 8,
   "metadata": {},
   "outputs": [
    {
     "data": {
      "text/html": [
       "<div>\n",
       "<style scoped>\n",
       "    .dataframe tbody tr th:only-of-type {\n",
       "        vertical-align: middle;\n",
       "    }\n",
       "\n",
       "    .dataframe tbody tr th {\n",
       "        vertical-align: top;\n",
       "    }\n",
       "\n",
       "    .dataframe thead th {\n",
       "        text-align: right;\n",
       "    }\n",
       "</style>\n",
       "<table border=\"1\" class=\"dataframe\">\n",
       "  <thead>\n",
       "    <tr style=\"text-align: right;\">\n",
       "      <th></th>\n",
       "      <th>None</th>\n",
       "    </tr>\n",
       "  </thead>\n",
       "  <tbody>\n",
       "    <tr>\n",
       "      <th>Territory</th>\n",
       "      <td>29.497846</td>\n",
       "    </tr>\n",
       "    <tr>\n",
       "      <th>Source</th>\n",
       "      <td>56.039417</td>\n",
       "    </tr>\n",
       "    <tr>\n",
       "      <th>Billing_Country</th>\n",
       "      <td>0.159320</td>\n",
       "    </tr>\n",
       "    <tr>\n",
       "      <th>Sales_Contract_No</th>\n",
       "      <td>41.145926</td>\n",
       "    </tr>\n",
       "    <tr>\n",
       "      <th>Account_Type</th>\n",
       "      <td>0.660884</td>\n",
       "    </tr>\n",
       "    <tr>\n",
       "      <th>Brand</th>\n",
       "      <td>93.886824</td>\n",
       "    </tr>\n",
       "    <tr>\n",
       "      <th>Product_Type</th>\n",
       "      <td>94.028442</td>\n",
       "    </tr>\n",
       "    <tr>\n",
       "      <th>Size</th>\n",
       "      <td>94.217266</td>\n",
       "    </tr>\n",
       "    <tr>\n",
       "      <th>Product_Category_B</th>\n",
       "      <td>93.987136</td>\n",
       "    </tr>\n",
       "    <tr>\n",
       "      <th>Currency</th>\n",
       "      <td>94.718829</td>\n",
       "    </tr>\n",
       "  </tbody>\n",
       "</table>\n",
       "</div>"
      ],
      "text/plain": [
       "                         None\n",
       "Territory           29.497846\n",
       "Source              56.039417\n",
       "Billing_Country      0.159320\n",
       "Sales_Contract_No   41.145926\n",
       "Account_Type         0.660884\n",
       "Brand               93.886824\n",
       "Product_Type        94.028442\n",
       "Size                94.217266\n",
       "Product_Category_B  93.987136\n",
       "Currency            94.718829"
      ]
     },
     "execution_count": 8,
     "metadata": {},
     "output_type": "execute_result"
    }
   ],
   "source": [
    "columns_category = df.select_dtypes(include=['category']).columns.to_list()\n",
    "#filtro las columnas que estan completas\n",
    "df2_category = df2.loc[columns_category and (df2['None'] != 0) ,'None'].to_frame()\n",
    "#Convierto las cantidades en porcentajes\n",
    "df2_category = df2_category / 16947 * 100\n",
    "df2_category"
   ]
  },
  {
   "cell_type": "code",
   "execution_count": 9,
   "metadata": {},
   "outputs": [
    {
     "data": {
      "text/plain": [
       "Text(0.5, 0, 'columnas categóricas')"
      ]
     },
     "execution_count": 9,
     "metadata": {},
     "output_type": "execute_result"
    },
    {
     "data": {
      "image/png": "[encoded data removed]",
      "text/plain": [
       "<Figure size 432x288 with 1 Axes>"
      ]
     },
     "metadata": {
      "needs_background": "light"
     },
     "output_type": "display_data"
    }
   ],
   "source": [
    "df2_category.plot(kind= 'bar', rot= 80, title='Porcentaje de datos no nulos por columna')\n",
    "ax= plt.gca()\n",
    "ax.set_ylabel('cantidad de datos no nulos')\n",
    "ax.set_xlabel('columnas categóricas')"
   ]
  },
  {
   "cell_type": "markdown",
   "metadata": {},
   "source": [
    "Las columnas \"Brand\", \"Product_Type\", \"Size\", \"Product_category_B\" y \"Currency\" tienen mas del 90 % de registros definidos con \"None\".\n",
    "Lo mismo sucede con \"Territory\", \"Source\", y \"Sales_contract_No\" pero en menor medida.\n",
    "#Podremos inferir algunos registros de territory consultando la columna \"Region\".\n",
    "#Que \"Sales_contract_No\" tenga 41.15% de \"None\", quiere decir que  hay cerca de la mitad de registros que no están al menos identificados con un numero de contrato.\n"
   ]
  },
  {
   "cell_type": "markdown",
   "metadata": {},
   "source": [
    "## Cantidad de valores  \"None\" en variables categóricas"
   ]
  },
  {
   "cell_type": "code",
   "execution_count": 10,
   "metadata": {},
   "outputs": [
    {
     "data": {
      "text/html": [
       "<div>\n",
       "<style scoped>\n",
       "    .dataframe tbody tr th:only-of-type {\n",
       "        vertical-align: middle;\n",
       "    }\n",
       "\n",
       "    .dataframe tbody tr th {\n",
       "        vertical-align: top;\n",
       "    }\n",
       "\n",
       "    .dataframe thead th {\n",
       "        text-align: right;\n",
       "    }\n",
       "</style>\n",
       "<table border=\"1\" class=\"dataframe\">\n",
       "  <thead>\n",
       "    <tr style=\"text-align: right;\">\n",
       "      <th></th>\n",
       "      <th>None</th>\n",
       "    </tr>\n",
       "  </thead>\n",
       "  <tbody>\n",
       "    <tr>\n",
       "      <th>Territory</th>\n",
       "      <td>29.497846</td>\n",
       "    </tr>\n",
       "    <tr>\n",
       "      <th>Source</th>\n",
       "      <td>56.039417</td>\n",
       "    </tr>\n",
       "    <tr>\n",
       "      <th>Billing_Country</th>\n",
       "      <td>0.159320</td>\n",
       "    </tr>\n",
       "    <tr>\n",
       "      <th>Sales_Contract_No</th>\n",
       "      <td>41.145926</td>\n",
       "    </tr>\n",
       "    <tr>\n",
       "      <th>Account_Type</th>\n",
       "      <td>0.660884</td>\n",
       "    </tr>\n",
       "    <tr>\n",
       "      <th>Brand</th>\n",
       "      <td>93.886824</td>\n",
       "    </tr>\n",
       "    <tr>\n",
       "      <th>Product_Type</th>\n",
       "      <td>94.028442</td>\n",
       "    </tr>\n",
       "    <tr>\n",
       "      <th>Size</th>\n",
       "      <td>94.217266</td>\n",
       "    </tr>\n",
       "    <tr>\n",
       "      <th>Product_Category_B</th>\n",
       "      <td>93.987136</td>\n",
       "    </tr>\n",
       "    <tr>\n",
       "      <th>Currency</th>\n",
       "      <td>94.718829</td>\n",
       "    </tr>\n",
       "  </tbody>\n",
       "</table>\n",
       "</div>"
      ],
      "text/plain": [
       "                         None\n",
       "Territory           29.497846\n",
       "Source              56.039417\n",
       "Billing_Country      0.159320\n",
       "Sales_Contract_No   41.145926\n",
       "Account_Type         0.660884\n",
       "Brand               93.886824\n",
       "Product_Type        94.028442\n",
       "Size                94.217266\n",
       "Product_Category_B  93.987136\n",
       "Currency            94.718829"
      ]
     },
     "execution_count": 10,
     "metadata": {},
     "output_type": "execute_result"
    }
   ],
   "source": [
    "#Obtengo una lista de las variables categóricas\n",
    "colums_category = df.select_dtypes(include=['category']).columns.to_list()\n",
    "#filtro las columnas que tienen al menos un None\n",
    "df2_category_with_none = df2.loc[colums_category and df2['None'] != 0,'None'].to_frame()\n",
    "#Convierto las cantidades en porcentajes\n",
    "df2_category_with_none = df2_category_with_none / len(df) * 100\n",
    "df2_category_with_none"
   ]
  },
  {
   "cell_type": "code",
   "execution_count": 11,
   "metadata": {},
   "outputs": [
    {
     "data": {
      "text/plain": [
       "Text(0.5, 0, 'columnas')"
      ]
     },
     "execution_count": 11,
     "metadata": {},
     "output_type": "execute_result"
    },
    {
     "data": {
      "image/png": "[encoded data removed]",
      "text/plain": [
       "<Figure size 432x288 with 1 Axes>"
      ]
     },
     "metadata": {
      "needs_background": "light"
     },
     "output_type": "display_data"
    }
   ],
   "source": [
    "df2_category_with_none.plot(kind= 'bar', rot= 80, title='Porcentaje de valores \"None\" por columna')\n",
    "ax= plt.gca()\n",
    "ax.set_ylabel('porcentaje de valores None')\n",
    "ax.set_xlabel('columnas')"
   ]
  },
  {
   "cell_type": "markdown",
   "metadata": {},
   "source": [
    "## Contratos por regiones"
   ]
  },
  {
   "cell_type": "code",
   "execution_count": 12,
   "metadata": {},
   "outputs": [
    {
     "data": {
      "text/plain": [
       "Region                0.000000\n",
       "Territory            29.497846\n",
       "Sales_Contract_No    41.145926\n",
       "dtype: float64"
      ]
     },
     "execution_count": 12,
     "metadata": {},
     "output_type": "execute_result"
    }
   ],
   "source": [
    "df[['Region','Territory','Sales_Contract_No']].eq('None').sum() / len(df) * 100"
   ]
  },
  {
   "cell_type": "code",
   "execution_count": 13,
   "metadata": {},
   "outputs": [
    {
     "data": {
      "text/plain": [
       "Region\n",
       "APAC           3262\n",
       "Americas       3945\n",
       "EMEA           4664\n",
       "Japan          4892\n",
       "Middle East     184\n",
       "Name: Sales_Contract_No, dtype: int64"
      ]
     },
     "execution_count": 13,
     "metadata": {},
     "output_type": "execute_result"
    }
   ],
   "source": [
    "Regions = df[['Region','Sales_Contract_No']].groupby('Region').count()\n",
    "Regions.Sales_Contract_No"
   ]
  },
  {
   "cell_type": "code",
   "execution_count": 14,
   "metadata": {},
   "outputs": [
    {
     "data": {
      "text/plain": [
       "Text(0.5, 0, 'Regiones')"
      ]
     },
     "execution_count": 14,
     "metadata": {},
     "output_type": "execute_result"
    },
    {
     "data": {
      "image/png": "[encoded data removed]",
      "text/plain": [
       "<Figure size 432x288 with 1 Axes>"
      ]
     },
     "metadata": {
      "needs_background": "light"
     },
     "output_type": "display_data"
    }
   ],
   "source": [
    "Regions.Sales_Contract_No.plot(kind= 'bar', rot= 80, title='Contratos por pais')\n",
    "ax= plt.gca()\n",
    "ax.set_ylabel('Cantidad de contratos')\n",
    "ax.set_xlabel('Regiones')"
   ]
  },
  {
   "cell_type": "markdown",
   "metadata": {},
   "source": [
    "## Contratos por Paises"
   ]
  },
  {
   "cell_type": "code",
   "execution_count": 15,
   "metadata": {},
   "outputs": [
    {
     "data": {
      "text/plain": [
       "None               4999\n",
       "Germany            1682\n",
       "NW America         1568\n",
       "Australia          1208\n",
       "India               809\n",
       "                   ... \n",
       "Egypt                 1\n",
       "Georgia               1\n",
       "Solomon Islands       1\n",
       "Slovenia              1\n",
       "Czech Republic        1\n",
       "Name: Territory, Length: 76, dtype: int64"
      ]
     },
     "execution_count": 15,
     "metadata": {},
     "output_type": "execute_result"
    }
   ],
   "source": [
    "df.Territory.value_counts()"
   ]
  },
  {
   "cell_type": "markdown",
   "metadata": {},
   "source": [
    "Hay 4999 contratos que no tienen país definido. Tambien vemos que Japon tiene 681, pero en la tabla de Regiones, la Region 'Japan' tiene 4892 contratos.\n",
    "Veamos cuales son las regiones de los contratos sin 'Territory' :"
   ]
  },
  {
   "cell_type": "code",
   "execution_count": 16,
   "metadata": {},
   "outputs": [
    {
     "data": {
      "text/html": [
       "<div>\n",
       "<style scoped>\n",
       "    .dataframe tbody tr th:only-of-type {\n",
       "        vertical-align: middle;\n",
       "    }\n",
       "\n",
       "    .dataframe tbody tr th {\n",
       "        vertical-align: top;\n",
       "    }\n",
       "\n",
       "    .dataframe thead th {\n",
       "        text-align: right;\n",
       "    }\n",
       "</style>\n",
       "<table border=\"1\" class=\"dataframe\">\n",
       "  <thead>\n",
       "    <tr style=\"text-align: right;\">\n",
       "      <th></th>\n",
       "      <th>Regions with None</th>\n",
       "    </tr>\n",
       "    <tr>\n",
       "      <th>Region</th>\n",
       "      <th></th>\n",
       "    </tr>\n",
       "  </thead>\n",
       "  <tbody>\n",
       "    <tr>\n",
       "      <th>APAC</th>\n",
       "      <td>0</td>\n",
       "    </tr>\n",
       "    <tr>\n",
       "      <th>Americas</th>\n",
       "      <td>571</td>\n",
       "    </tr>\n",
       "    <tr>\n",
       "      <th>EMEA</th>\n",
       "      <td>187</td>\n",
       "    </tr>\n",
       "    <tr>\n",
       "      <th>Japan</th>\n",
       "      <td>4211</td>\n",
       "    </tr>\n",
       "    <tr>\n",
       "      <th>Middle East</th>\n",
       "      <td>30</td>\n",
       "    </tr>\n",
       "  </tbody>\n",
       "</table>\n",
       "</div>"
      ],
      "text/plain": [
       "             Regions with None\n",
       "Region                        \n",
       "APAC                         0\n",
       "Americas                   571\n",
       "EMEA                       187\n",
       "Japan                     4211\n",
       "Middle East                 30"
      ]
     },
     "execution_count": 16,
     "metadata": {},
     "output_type": "execute_result"
    }
   ],
   "source": [
    "df['Regions with None'] = df['Territory'] == 'None'\n",
    "Regions_with_None = df.loc[:,['Region','Regions with None']].groupby('Region').sum()\n",
    "Regions_with_None"
   ]
  },
  {
   "cell_type": "markdown",
   "metadata": {},
   "source": [
    "Si sumamos estos 4211 contratos de la Region 'Japan' con los 681 confirmados en la tabla de 'territory'\n",
    "Nos quedan los 4892 que figuraban en la tabla de contratos por region\n",
    "Por lo tanto, a los registros con Region Japan y valor 'None' en la columna 'territory' se lo cambiamos a 'Japan'."
   ]
  },
  {
   "cell_type": "code",
   "execution_count": 17,
   "metadata": {},
   "outputs": [
    {
     "data": {
      "text/html": [
       "<div>\n",
       "<style scoped>\n",
       "    .dataframe tbody tr th:only-of-type {\n",
       "        vertical-align: middle;\n",
       "    }\n",
       "\n",
       "    .dataframe tbody tr th {\n",
       "        vertical-align: top;\n",
       "    }\n",
       "\n",
       "    .dataframe thead th {\n",
       "        text-align: right;\n",
       "    }\n",
       "</style>\n",
       "<table border=\"1\" class=\"dataframe\">\n",
       "  <thead>\n",
       "    <tr style=\"text-align: right;\">\n",
       "      <th></th>\n",
       "      <th>Regions with None</th>\n",
       "    </tr>\n",
       "    <tr>\n",
       "      <th>Region</th>\n",
       "      <th></th>\n",
       "    </tr>\n",
       "  </thead>\n",
       "  <tbody>\n",
       "    <tr>\n",
       "      <th>APAC</th>\n",
       "      <td>0</td>\n",
       "    </tr>\n",
       "    <tr>\n",
       "      <th>Americas</th>\n",
       "      <td>571</td>\n",
       "    </tr>\n",
       "    <tr>\n",
       "      <th>EMEA</th>\n",
       "      <td>187</td>\n",
       "    </tr>\n",
       "    <tr>\n",
       "      <th>Japan</th>\n",
       "      <td>0</td>\n",
       "    </tr>\n",
       "    <tr>\n",
       "      <th>Middle East</th>\n",
       "      <td>30</td>\n",
       "    </tr>\n",
       "  </tbody>\n",
       "</table>\n",
       "</div>"
      ],
      "text/plain": [
       "             Regions with None\n",
       "Region                        \n",
       "APAC                         0\n",
       "Americas                   571\n",
       "EMEA                       187\n",
       "Japan                        0\n",
       "Middle East                 30"
      ]
     },
     "execution_count": 17,
     "metadata": {},
     "output_type": "execute_result"
    }
   ],
   "source": [
    "df.loc[df.Territory.eq('None') & df.Region.eq('Japan') ,'Territory'] = 'Japan'\n",
    "#Confirmemos consultando la tabla nuevamente\n",
    "df['Regions with None'] = df['Territory'] == 'None'\n",
    "Regions_with_None = df.loc[:,['Region','Regions with None']].groupby('Region').sum()\n",
    "Regions_with_None"
   ]
  },
  {
   "cell_type": "code",
   "execution_count": 18,
   "metadata": {},
   "outputs": [
    {
     "data": {
      "text/plain": [
       "Territory\n",
       "Japan          4892\n",
       "Germany        1682\n",
       "NW America     1568\n",
       "Australia      1208\n",
       "India           809\n",
       "None            788\n",
       "NE America      760\n",
       "Netherlands     533\n",
       "SE America      493\n",
       "France          449\n",
       "Name: Sales_Contract_No, dtype: int64"
      ]
     },
     "execution_count": 18,
     "metadata": {},
     "output_type": "execute_result"
    }
   ],
   "source": [
    "Territories = df[['Territory','Sales_Contract_No']].groupby('Territory').count()\n",
    "Territories_top10 = Territories['Sales_Contract_No'].nlargest(10)\n",
    "Territories_top10"
   ]
  },
  {
   "cell_type": "markdown",
   "metadata": {},
   "source": [
    "La mayor cantidad de contratos se concentran principalmente en Japan, seguido de Alemania, NW america\n",
    "y Australia"
   ]
  },
  {
   "cell_type": "code",
   "execution_count": 19,
   "metadata": {},
   "outputs": [
    {
     "data": {
      "text/plain": [
       "Text(0.5, 0, 'Paises')"
      ]
     },
     "execution_count": 19,
     "metadata": {},
     "output_type": "execute_result"
    },
    {
     "data": {
      "image/png": "[encoded data removed]",
      "text/plain": [
       "<Figure size 432x288 with 1 Axes>"
      ]
     },
     "metadata": {
      "needs_background": "light"
     },
     "output_type": "display_data"
    }
   ],
   "source": [
    "Territories_top10.plot(kind= 'bar', rot= 80, title='Top 10 Paises con mas contratos')\n",
    "ax= plt.gca()\n",
    "ax.set_ylabel('Cantidad de contratos')\n",
    "ax.set_xlabel('Paises')"
   ]
  },
  {
   "cell_type": "code",
   "execution_count": 20,
   "metadata": {},
   "outputs": [
    {
     "data": {
      "text/html": [
       "<div>\n",
       "<style scoped>\n",
       "    .dataframe tbody tr th:only-of-type {\n",
       "        vertical-align: middle;\n",
       "    }\n",
       "\n",
       "    .dataframe tbody tr th {\n",
       "        vertical-align: top;\n",
       "    }\n",
       "\n",
       "    .dataframe thead th {\n",
       "        text-align: right;\n",
       "    }\n",
       "</style>\n",
       "<table border=\"1\" class=\"dataframe\">\n",
       "  <thead>\n",
       "    <tr style=\"text-align: right;\">\n",
       "      <th></th>\n",
       "      <th>Region</th>\n",
       "      <th>Nro of None</th>\n",
       "      <th>Nro of contracts</th>\n",
       "      <th>Porcentage of None</th>\n",
       "    </tr>\n",
       "  </thead>\n",
       "  <tbody>\n",
       "    <tr>\n",
       "      <th>0</th>\n",
       "      <td>APAC</td>\n",
       "      <td>0</td>\n",
       "      <td>3262</td>\n",
       "      <td>0.000000</td>\n",
       "    </tr>\n",
       "    <tr>\n",
       "      <th>1</th>\n",
       "      <td>Americas</td>\n",
       "      <td>571</td>\n",
       "      <td>3945</td>\n",
       "      <td>14.474018</td>\n",
       "    </tr>\n",
       "    <tr>\n",
       "      <th>2</th>\n",
       "      <td>EMEA</td>\n",
       "      <td>187</td>\n",
       "      <td>4664</td>\n",
       "      <td>4.009434</td>\n",
       "    </tr>\n",
       "    <tr>\n",
       "      <th>3</th>\n",
       "      <td>Japan</td>\n",
       "      <td>0</td>\n",
       "      <td>4892</td>\n",
       "      <td>0.000000</td>\n",
       "    </tr>\n",
       "    <tr>\n",
       "      <th>4</th>\n",
       "      <td>Middle East</td>\n",
       "      <td>30</td>\n",
       "      <td>184</td>\n",
       "      <td>16.304348</td>\n",
       "    </tr>\n",
       "  </tbody>\n",
       "</table>\n",
       "</div>"
      ],
      "text/plain": [
       "        Region  Nro of None  Nro of contracts  Porcentage of None\n",
       "0         APAC            0              3262            0.000000\n",
       "1     Americas          571              3945           14.474018\n",
       "2         EMEA          187              4664            4.009434\n",
       "3        Japan            0              4892            0.000000\n",
       "4  Middle East           30               184           16.304348"
      ]
     },
     "execution_count": 20,
     "metadata": {},
     "output_type": "execute_result"
    }
   ],
   "source": [
    "#Comparemos la cantidad de 'None' con el total segun su region, tambien sacamos el porcentaje.\n",
    "Regions_with_None['Nro of contracts'] = Regions.Sales_Contract_No\n",
    "Regions_with_None['Porcentage of None'] = Regions_with_None['Regions with None']   * 100       \\\n",
    "                                        / Regions.Sales_Contract_No\n",
    "#Cambiamos el nombre de una columna para mejorar la visualizacion de la tabla\n",
    "Regions_with_None = Regions_with_None.rename(columns= {'Regions with None':'Nro of None'})\n",
    "Regions_with_None.reset_index()"
   ]
  },
  {
   "cell_type": "code",
   "execution_count": 21,
   "metadata": {},
   "outputs": [
    {
     "data": {
      "text/plain": [
       "6141     1\n",
       "27384    1\n",
       "21263    1\n",
       "19212    1\n",
       "25353    1\n",
       "        ..\n",
       "13676    1\n",
       "28007    1\n",
       "25958    1\n",
       "19811    1\n",
       "8196     1\n",
       "Name: ID, Length: 16947, dtype: int64"
      ]
     },
     "execution_count": 21,
     "metadata": {},
     "output_type": "execute_result"
    }
   ],
   "source": [
    "df['is closed won'] = df.Stage == 'Closed Won'\n",
    "df.ID.value_counts()"
   ]
  },
  {
   "cell_type": "markdown",
   "metadata": {},
   "source": [
    "## Columna Billing_Country"
   ]
  },
  {
   "cell_type": "code",
   "execution_count": 22,
   "metadata": {},
   "outputs": [],
   "source": [
    "## Algunos registros que no tienen pais designado en la columna 'Territory' podemos inferirlos por\n",
    "# el pais en donde se emitió la factura, dada por la columna 'Billing_Country'"
   ]
  },
  {
   "cell_type": "code",
   "execution_count": 23,
   "metadata": {},
   "outputs": [
    {
     "data": {
      "text/html": [
       "<div>\n",
       "<style scoped>\n",
       "    .dataframe tbody tr th:only-of-type {\n",
       "        vertical-align: middle;\n",
       "    }\n",
       "\n",
       "    .dataframe tbody tr th {\n",
       "        vertical-align: top;\n",
       "    }\n",
       "\n",
       "    .dataframe thead th {\n",
       "        text-align: right;\n",
       "    }\n",
       "</style>\n",
       "<table border=\"1\" class=\"dataframe\">\n",
       "  <thead>\n",
       "    <tr style=\"text-align: right;\">\n",
       "      <th></th>\n",
       "      <th>Billing_Country</th>\n",
       "      <th>Territory</th>\n",
       "    </tr>\n",
       "  </thead>\n",
       "  <tbody>\n",
       "    <tr>\n",
       "      <th>0</th>\n",
       "      <td>Netherlands</td>\n",
       "      <td>None</td>\n",
       "    </tr>\n",
       "    <tr>\n",
       "      <th>1</th>\n",
       "      <td>Netherlands</td>\n",
       "      <td>None</td>\n",
       "    </tr>\n",
       "    <tr>\n",
       "      <th>2</th>\n",
       "      <td>United States</td>\n",
       "      <td>NW America</td>\n",
       "    </tr>\n",
       "    <tr>\n",
       "      <th>3</th>\n",
       "      <td>United States</td>\n",
       "      <td>NW America</td>\n",
       "    </tr>\n",
       "    <tr>\n",
       "      <th>4</th>\n",
       "      <td>United States</td>\n",
       "      <td>NW America</td>\n",
       "    </tr>\n",
       "    <tr>\n",
       "      <th>...</th>\n",
       "      <td>...</td>\n",
       "      <td>...</td>\n",
       "    </tr>\n",
       "    <tr>\n",
       "      <th>16942</th>\n",
       "      <td>Austria</td>\n",
       "      <td>Austria</td>\n",
       "    </tr>\n",
       "    <tr>\n",
       "      <th>16943</th>\n",
       "      <td>Austria</td>\n",
       "      <td>Austria</td>\n",
       "    </tr>\n",
       "    <tr>\n",
       "      <th>16944</th>\n",
       "      <td>Austria</td>\n",
       "      <td>Austria</td>\n",
       "    </tr>\n",
       "    <tr>\n",
       "      <th>16945</th>\n",
       "      <td>United States</td>\n",
       "      <td>NE America</td>\n",
       "    </tr>\n",
       "    <tr>\n",
       "      <th>16946</th>\n",
       "      <td>United States</td>\n",
       "      <td>NE America</td>\n",
       "    </tr>\n",
       "  </tbody>\n",
       "</table>\n",
       "<p>16947 rows × 2 columns</p>\n",
       "</div>"
      ],
      "text/plain": [
       "      Billing_Country   Territory\n",
       "0         Netherlands        None\n",
       "1         Netherlands        None\n",
       "2       United States  NW America\n",
       "3       United States  NW America\n",
       "4       United States  NW America\n",
       "...               ...         ...\n",
       "16942         Austria     Austria\n",
       "16943         Austria     Austria\n",
       "16944         Austria     Austria\n",
       "16945   United States  NE America\n",
       "16946   United States  NE America\n",
       "\n",
       "[16947 rows x 2 columns]"
      ]
     },
     "execution_count": 23,
     "metadata": {},
     "output_type": "execute_result"
    }
   ],
   "source": [
    "#Veamos si se cumple esto\n",
    "df[['Billing_Country','Territory']]"
   ]
  },
  {
   "cell_type": "code",
   "execution_count": 24,
   "metadata": {},
   "outputs": [
    {
     "name": "stdout",
     "output_type": "stream",
     "text": [
      "27 registros con valor \"None\" \n"
     ]
    },
    {
     "data": {
      "text/plain": [
       "24                India\n",
       "181             Tunisia\n",
       "2613              India\n",
       "3063              Japan\n",
       "3071          Singapore\n",
       "3091     United Kingdom\n",
       "3579     United Kingdom\n",
       "4200          Indonesia\n",
       "7921            Germany\n",
       "10278         Singapore\n",
       "16144              None\n",
       "16176       Philippines\n",
       "16185         Indonesia\n",
       "16186         Indonesia\n",
       "16329         Singapore\n",
       "16385          Cambodia\n",
       "16451             India\n",
       "16495             India\n",
       "16617             India\n",
       "16618             India\n",
       "16628             India\n",
       "16685             India\n",
       "16710             India\n",
       "16760             India\n",
       "16832    United Kingdom\n",
       "16833    United Kingdom\n",
       "16836            Poland\n",
       "Name: Territory, dtype: category\n",
       "Categories (76, object): ['Albania', 'Armenia', 'Australia', 'Austria', ..., 'UAE (Others)', 'Ukraine', 'United Kingdom', 'Vietnam']"
      ]
     },
     "execution_count": 24,
     "metadata": {},
     "output_type": "execute_result"
    }
   ],
   "source": [
    "#Veamos si tambien hay registros sin pais designado en la columna 'Billing_Country'\n",
    "print( str(df.Billing_Country.eq('None').sum()) + ' registros con valor \"None\" ')\n",
    "df.loc[df.Billing_Country.eq('None'),'Territory']"
   ]
  },
  {
   "cell_type": "markdown",
   "metadata": {},
   "source": [
    "De estos 27 tambien podemos sacar el pais de la columna 'Territory', a excepcion de uno."
   ]
  },
  {
   "cell_type": "code",
   "execution_count": 25,
   "metadata": {},
   "outputs": [
    {
     "data": {
      "text/plain": [
       "1"
      ]
     },
     "execution_count": 25,
     "metadata": {},
     "output_type": "execute_result"
    }
   ],
   "source": [
    "#Veamos cuantos registros hay sin pais designado tanto en 'Territory' como en 'Billing_Country'\n",
    "df.loc[df.Billing_Country.eq('None'),'Territory'].eq('None').sum()"
   ]
  },
  {
   "cell_type": "code",
   "execution_count": 26,
   "metadata": {},
   "outputs": [
    {
     "ename": "ValueError",
     "evalue": "Cannot set a Categorical with another, without identical categories",
     "output_type": "error",
     "traceback": [
      "\u001b[0;31m---------------------------------------------------------------------------\u001b[0m",
      "\u001b[0;31mValueError\u001b[0m                                Traceback (most recent call last)",
      "\u001b[0;32m<ipython-input-26-d4a7b6837ccb>\u001b[0m in \u001b[0;36m<module>\u001b[0;34m\u001b[0m\n\u001b[1;32m      1\u001b[0m \u001b[0mTerritories_for_billing_countries\u001b[0m \u001b[0;34m=\u001b[0m \u001b[0mdf\u001b[0m\u001b[0;34m.\u001b[0m\u001b[0mloc\u001b[0m\u001b[0;34m[\u001b[0m\u001b[0mdf\u001b[0m\u001b[0;34m.\u001b[0m\u001b[0mBilling_Country\u001b[0m\u001b[0;34m.\u001b[0m\u001b[0meq\u001b[0m\u001b[0;34m(\u001b[0m\u001b[0;34m'None'\u001b[0m\u001b[0;34m)\u001b[0m \u001b[0;34m,\u001b[0m\u001b[0;34m'Territory'\u001b[0m\u001b[0;34m]\u001b[0m\u001b[0;34m\u001b[0m\u001b[0;34m\u001b[0m\u001b[0m\n\u001b[0;32m----> 2\u001b[0;31m \u001b[0mdf\u001b[0m\u001b[0;34m.\u001b[0m\u001b[0mloc\u001b[0m\u001b[0;34m[\u001b[0m\u001b[0mdf\u001b[0m\u001b[0;34m.\u001b[0m\u001b[0mBilling_Country\u001b[0m\u001b[0;34m.\u001b[0m\u001b[0meq\u001b[0m\u001b[0;34m(\u001b[0m\u001b[0;34m'None'\u001b[0m\u001b[0;34m)\u001b[0m \u001b[0;34m,\u001b[0m\u001b[0;34m'Billing_Country'\u001b[0m\u001b[0;34m]\u001b[0m \u001b[0;34m=\u001b[0m \u001b[0mTerritories_for_billing_countries\u001b[0m\u001b[0;34m\u001b[0m\u001b[0;34m\u001b[0m\u001b[0m\n\u001b[0m",
      "\u001b[0;32m/Library/Frameworks/Python.framework/Versions/3.8/lib/python3.8/site-packages/pandas/core/indexing.py\u001b[0m in \u001b[0;36m__setitem__\u001b[0;34m(self, key, value)\u001b[0m\n\u001b[1;32m    668\u001b[0m \u001b[0;34m\u001b[0m\u001b[0m\n\u001b[1;32m    669\u001b[0m         \u001b[0miloc\u001b[0m \u001b[0;34m=\u001b[0m \u001b[0mself\u001b[0m \u001b[0;32mif\u001b[0m \u001b[0mself\u001b[0m\u001b[0;34m.\u001b[0m\u001b[0mname\u001b[0m \u001b[0;34m==\u001b[0m \u001b[0;34m\"iloc\"\u001b[0m \u001b[0;32melse\u001b[0m \u001b[0mself\u001b[0m\u001b[0;34m.\u001b[0m\u001b[0mobj\u001b[0m\u001b[0;34m.\u001b[0m\u001b[0miloc\u001b[0m\u001b[0;34m\u001b[0m\u001b[0;34m\u001b[0m\u001b[0m\n\u001b[0;32m--> 670\u001b[0;31m         \u001b[0miloc\u001b[0m\u001b[0;34m.\u001b[0m\u001b[0m_setitem_with_indexer\u001b[0m\u001b[0;34m(\u001b[0m\u001b[0mindexer\u001b[0m\u001b[0;34m,\u001b[0m \u001b[0mvalue\u001b[0m\u001b[0;34m)\u001b[0m\u001b[0;34m\u001b[0m\u001b[0;34m\u001b[0m\u001b[0m\n\u001b[0m\u001b[1;32m    671\u001b[0m \u001b[0;34m\u001b[0m\u001b[0m\n\u001b[1;32m    672\u001b[0m     \u001b[0;32mdef\u001b[0m \u001b[0m_validate_key\u001b[0m\u001b[0;34m(\u001b[0m\u001b[0mself\u001b[0m\u001b[0;34m,\u001b[0m \u001b[0mkey\u001b[0m\u001b[0;34m,\u001b[0m \u001b[0maxis\u001b[0m\u001b[0;34m:\u001b[0m \u001b[0mint\u001b[0m\u001b[0;34m)\u001b[0m\u001b[0;34m:\u001b[0m\u001b[0;34m\u001b[0m\u001b[0;34m\u001b[0m\u001b[0m\n",
      "\u001b[0;32m/Library/Frameworks/Python.framework/Versions/3.8/lib/python3.8/site-packages/pandas/core/indexing.py\u001b[0m in \u001b[0;36m_setitem_with_indexer\u001b[0;34m(self, indexer, value)\u001b[0m\n\u001b[1;32m   1743\u001b[0m                     \u001b[0;31m# we have an equal len list/ndarray\u001b[0m\u001b[0;34m\u001b[0m\u001b[0;34m\u001b[0m\u001b[0;34m\u001b[0m\u001b[0m\n\u001b[1;32m   1744\u001b[0m                     \u001b[0;31m# We only get here with len(labels) == len(ilocs) == 1\u001b[0m\u001b[0;34m\u001b[0m\u001b[0;34m\u001b[0m\u001b[0;34m\u001b[0m\u001b[0m\n\u001b[0;32m-> 1745\u001b[0;31m                     \u001b[0misetter\u001b[0m\u001b[0;34m(\u001b[0m\u001b[0milocs\u001b[0m\u001b[0;34m[\u001b[0m\u001b[0;36m0\u001b[0m\u001b[0;34m]\u001b[0m\u001b[0;34m,\u001b[0m \u001b[0mvalue\u001b[0m\u001b[0;34m)\u001b[0m\u001b[0;34m\u001b[0m\u001b[0;34m\u001b[0m\u001b[0m\n\u001b[0m\u001b[1;32m   1746\u001b[0m \u001b[0;34m\u001b[0m\u001b[0m\n\u001b[1;32m   1747\u001b[0m                 \u001b[0;32melif\u001b[0m \u001b[0mlplane_indexer\u001b[0m \u001b[0;34m==\u001b[0m \u001b[0;36m0\u001b[0m \u001b[0;32mand\u001b[0m \u001b[0mlen\u001b[0m\u001b[0;34m(\u001b[0m\u001b[0mvalue\u001b[0m\u001b[0;34m)\u001b[0m \u001b[0;34m==\u001b[0m \u001b[0mlen\u001b[0m\u001b[0;34m(\u001b[0m\u001b[0mself\u001b[0m\u001b[0;34m.\u001b[0m\u001b[0mobj\u001b[0m\u001b[0;34m.\u001b[0m\u001b[0mindex\u001b[0m\u001b[0;34m)\u001b[0m\u001b[0;34m:\u001b[0m\u001b[0;34m\u001b[0m\u001b[0;34m\u001b[0m\u001b[0m\n",
      "\u001b[0;32m/Library/Frameworks/Python.framework/Versions/3.8/lib/python3.8/site-packages/pandas/core/indexing.py\u001b[0m in \u001b[0;36misetter\u001b[0;34m(loc, v)\u001b[0m\n\u001b[1;32m   1689\u001b[0m                     \u001b[0;31m# set the item, possibly having a dtype change\u001b[0m\u001b[0;34m\u001b[0m\u001b[0;34m\u001b[0m\u001b[0;34m\u001b[0m\u001b[0m\n\u001b[1;32m   1690\u001b[0m                     \u001b[0mser\u001b[0m \u001b[0;34m=\u001b[0m \u001b[0mser\u001b[0m\u001b[0;34m.\u001b[0m\u001b[0mcopy\u001b[0m\u001b[0;34m(\u001b[0m\u001b[0;34m)\u001b[0m\u001b[0;34m\u001b[0m\u001b[0;34m\u001b[0m\u001b[0m\n\u001b[0;32m-> 1691\u001b[0;31m                     \u001b[0mser\u001b[0m\u001b[0;34m.\u001b[0m\u001b[0m_mgr\u001b[0m \u001b[0;34m=\u001b[0m \u001b[0mser\u001b[0m\u001b[0;34m.\u001b[0m\u001b[0m_mgr\u001b[0m\u001b[0;34m.\u001b[0m\u001b[0msetitem\u001b[0m\u001b[0;34m(\u001b[0m\u001b[0mindexer\u001b[0m\u001b[0;34m=\u001b[0m\u001b[0mpi\u001b[0m\u001b[0;34m,\u001b[0m \u001b[0mvalue\u001b[0m\u001b[0;34m=\u001b[0m\u001b[0mv\u001b[0m\u001b[0;34m)\u001b[0m\u001b[0;34m\u001b[0m\u001b[0;34m\u001b[0m\u001b[0m\n\u001b[0m\u001b[1;32m   1692\u001b[0m                     \u001b[0mser\u001b[0m\u001b[0;34m.\u001b[0m\u001b[0m_maybe_update_cacher\u001b[0m\u001b[0;34m(\u001b[0m\u001b[0mclear\u001b[0m\u001b[0;34m=\u001b[0m\u001b[0;32mTrue\u001b[0m\u001b[0;34m)\u001b[0m\u001b[0;34m\u001b[0m\u001b[0;34m\u001b[0m\u001b[0m\n\u001b[1;32m   1693\u001b[0m \u001b[0;34m\u001b[0m\u001b[0m\n",
      "\u001b[0;32m/Library/Frameworks/Python.framework/Versions/3.8/lib/python3.8/site-packages/pandas/core/internals/managers.py\u001b[0m in \u001b[0;36msetitem\u001b[0;34m(self, indexer, value)\u001b[0m\n\u001b[1;32m    532\u001b[0m \u001b[0;34m\u001b[0m\u001b[0m\n\u001b[1;32m    533\u001b[0m     \u001b[0;32mdef\u001b[0m \u001b[0msetitem\u001b[0m\u001b[0;34m(\u001b[0m\u001b[0mself\u001b[0m\u001b[0;34m,\u001b[0m \u001b[0mindexer\u001b[0m\u001b[0;34m,\u001b[0m \u001b[0mvalue\u001b[0m\u001b[0;34m)\u001b[0m \u001b[0;34m->\u001b[0m \u001b[0;34m\"BlockManager\"\u001b[0m\u001b[0;34m:\u001b[0m\u001b[0;34m\u001b[0m\u001b[0;34m\u001b[0m\u001b[0m\n\u001b[0;32m--> 534\u001b[0;31m         \u001b[0;32mreturn\u001b[0m \u001b[0mself\u001b[0m\u001b[0;34m.\u001b[0m\u001b[0mapply\u001b[0m\u001b[0;34m(\u001b[0m\u001b[0;34m\"setitem\"\u001b[0m\u001b[0;34m,\u001b[0m \u001b[0mindexer\u001b[0m\u001b[0;34m=\u001b[0m\u001b[0mindexer\u001b[0m\u001b[0;34m,\u001b[0m \u001b[0mvalue\u001b[0m\u001b[0;34m=\u001b[0m\u001b[0mvalue\u001b[0m\u001b[0;34m)\u001b[0m\u001b[0;34m\u001b[0m\u001b[0;34m\u001b[0m\u001b[0m\n\u001b[0m\u001b[1;32m    535\u001b[0m \u001b[0;34m\u001b[0m\u001b[0m\n\u001b[1;32m    536\u001b[0m     def putmask(\n",
      "\u001b[0;32m/Library/Frameworks/Python.framework/Versions/3.8/lib/python3.8/site-packages/pandas/core/internals/managers.py\u001b[0m in \u001b[0;36mapply\u001b[0;34m(self, f, align_keys, **kwargs)\u001b[0m\n\u001b[1;32m    404\u001b[0m                 \u001b[0mapplied\u001b[0m \u001b[0;34m=\u001b[0m \u001b[0mb\u001b[0m\u001b[0;34m.\u001b[0m\u001b[0mapply\u001b[0m\u001b[0;34m(\u001b[0m\u001b[0mf\u001b[0m\u001b[0;34m,\u001b[0m \u001b[0;34m**\u001b[0m\u001b[0mkwargs\u001b[0m\u001b[0;34m)\u001b[0m\u001b[0;34m\u001b[0m\u001b[0;34m\u001b[0m\u001b[0m\n\u001b[1;32m    405\u001b[0m             \u001b[0;32melse\u001b[0m\u001b[0;34m:\u001b[0m\u001b[0;34m\u001b[0m\u001b[0;34m\u001b[0m\u001b[0m\n\u001b[0;32m--> 406\u001b[0;31m                 \u001b[0mapplied\u001b[0m \u001b[0;34m=\u001b[0m \u001b[0mgetattr\u001b[0m\u001b[0;34m(\u001b[0m\u001b[0mb\u001b[0m\u001b[0;34m,\u001b[0m \u001b[0mf\u001b[0m\u001b[0;34m)\u001b[0m\u001b[0;34m(\u001b[0m\u001b[0;34m**\u001b[0m\u001b[0mkwargs\u001b[0m\u001b[0;34m)\u001b[0m\u001b[0;34m\u001b[0m\u001b[0;34m\u001b[0m\u001b[0m\n\u001b[0m\u001b[1;32m    407\u001b[0m             \u001b[0mresult_blocks\u001b[0m \u001b[0;34m=\u001b[0m \u001b[0m_extend_blocks\u001b[0m\u001b[0;34m(\u001b[0m\u001b[0mapplied\u001b[0m\u001b[0;34m,\u001b[0m \u001b[0mresult_blocks\u001b[0m\u001b[0;34m)\u001b[0m\u001b[0;34m\u001b[0m\u001b[0;34m\u001b[0m\u001b[0m\n\u001b[1;32m    408\u001b[0m \u001b[0;34m\u001b[0m\u001b[0m\n",
      "\u001b[0;32m/Library/Frameworks/Python.framework/Versions/3.8/lib/python3.8/site-packages/pandas/core/internals/blocks.py\u001b[0m in \u001b[0;36msetitem\u001b[0;34m(self, indexer, value)\u001b[0m\n\u001b[1;32m   1686\u001b[0m \u001b[0;34m\u001b[0m\u001b[0m\n\u001b[1;32m   1687\u001b[0m         \u001b[0mcheck_setitem_lengths\u001b[0m\u001b[0;34m(\u001b[0m\u001b[0mindexer\u001b[0m\u001b[0;34m,\u001b[0m \u001b[0mvalue\u001b[0m\u001b[0;34m,\u001b[0m \u001b[0mself\u001b[0m\u001b[0;34m.\u001b[0m\u001b[0mvalues\u001b[0m\u001b[0;34m)\u001b[0m\u001b[0;34m\u001b[0m\u001b[0;34m\u001b[0m\u001b[0m\n\u001b[0;32m-> 1688\u001b[0;31m         \u001b[0mself\u001b[0m\u001b[0;34m.\u001b[0m\u001b[0mvalues\u001b[0m\u001b[0;34m[\u001b[0m\u001b[0mindexer\u001b[0m\u001b[0;34m]\u001b[0m \u001b[0;34m=\u001b[0m \u001b[0mvalue\u001b[0m\u001b[0;34m\u001b[0m\u001b[0;34m\u001b[0m\u001b[0m\n\u001b[0m\u001b[1;32m   1689\u001b[0m         \u001b[0;32mreturn\u001b[0m \u001b[0mself\u001b[0m\u001b[0;34m\u001b[0m\u001b[0;34m\u001b[0m\u001b[0m\n\u001b[1;32m   1690\u001b[0m \u001b[0;34m\u001b[0m\u001b[0m\n",
      "\u001b[0;32m/Library/Frameworks/Python.framework/Versions/3.8/lib/python3.8/site-packages/pandas/core/arrays/categorical.py\u001b[0m in \u001b[0;36m__setitem__\u001b[0;34m(self, key, value)\u001b[0m\n\u001b[1;32m   1989\u001b[0m         \u001b[0;32mif\u001b[0m \u001b[0misinstance\u001b[0m\u001b[0;34m(\u001b[0m\u001b[0mvalue\u001b[0m\u001b[0;34m,\u001b[0m \u001b[0mCategorical\u001b[0m\u001b[0;34m)\u001b[0m\u001b[0;34m:\u001b[0m\u001b[0;34m\u001b[0m\u001b[0;34m\u001b[0m\u001b[0m\n\u001b[1;32m   1990\u001b[0m             \u001b[0;32mif\u001b[0m \u001b[0;32mnot\u001b[0m \u001b[0mis_dtype_equal\u001b[0m\u001b[0;34m(\u001b[0m\u001b[0mself\u001b[0m\u001b[0;34m,\u001b[0m \u001b[0mvalue\u001b[0m\u001b[0;34m)\u001b[0m\u001b[0;34m:\u001b[0m\u001b[0;34m\u001b[0m\u001b[0;34m\u001b[0m\u001b[0m\n\u001b[0;32m-> 1991\u001b[0;31m                 raise ValueError(\n\u001b[0m\u001b[1;32m   1992\u001b[0m                     \u001b[0;34m\"Cannot set a Categorical with another, \"\u001b[0m\u001b[0;34m\u001b[0m\u001b[0;34m\u001b[0m\u001b[0m\n\u001b[1;32m   1993\u001b[0m                     \u001b[0;34m\"without identical categories\"\u001b[0m\u001b[0;34m\u001b[0m\u001b[0;34m\u001b[0m\u001b[0m\n",
      "\u001b[0;31mValueError\u001b[0m: Cannot set a Categorical with another, without identical categories"
     ]
    }
   ],
   "source": [
    "Territories_for_billing_countries = df.loc[df.Billing_Country.eq('None') ,'Territory']\n",
    "df.loc[df.Billing_Country.eq('None') ,'Billing_Country'] = Territories_for_billing_countries\n"
   ]
  },
  {
   "cell_type": "code",
   "execution_count": null,
   "metadata": {},
   "outputs": [],
   "source": []
  }
 ],
 "metadata": {
  "kernelspec": {
   "display_name": "Python 3",
   "language": "python",
   "name": "python3"
  },
  "language_info": {
   "codemirror_mode": {
    "name": "ipython",
    "version": 3
   },
   "file_extension": ".py",
   "mimetype": "text/x-python",
   "name": "python",
   "nbconvert_exporter": "python",
   "pygments_lexer": "ipython3",
   "version": "3.8.2"
  }
 },
 "nbformat": 4,
 "nbformat_minor": 4
}
